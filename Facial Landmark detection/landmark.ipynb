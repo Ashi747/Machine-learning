{
 "cells": [
  {
   "cell_type": "code",
   "execution_count": 1,
   "metadata": {},
   "outputs": [],
   "source": [
    "# to import libraries\n",
    "import cv2\n",
    "import numpy as np\n",
    "import dlib\n"
   ]
  },
  {
   "cell_type": "code",
   "execution_count": 2,
   "metadata": {},
   "outputs": [],
   "source": [
    "#to read image\n",
    "img = cv2.imread(r'C:\\Users\\amuez\\OneDrive\\Desktop\\1.jpg')\n"
   ]
  },
  {
   "cell_type": "code",
   "execution_count": 3,
   "metadata": {},
   "outputs": [],
   "source": [
    "#to find face\n",
    "detector = dlib.get_frontal_face_detector()\n",
    "# to load shape predicting face landmarks\n",
    "predictor = dlib.shape_predictor(\"shape_predictor_68_face_landmarks.dat\")\n",
    "# converting image into grayscale image\n",
    "imgGray = cv2.cvtColor(img,cv2.COLOR_BGR2GRAY)\n",
    "faces = detector(imgGray)"
   ]
  },
  {
   "cell_type": "code",
   "execution_count": null,
   "metadata": {},
   "outputs": [],
   "source": [
    "# to create bounding boxes and landmarks for the faces that we have created\n",
    "for face in faces:\n",
    "    x1,y1 = face.left(),face.top()\n",
    "    x2,y2 = face.right(),face.bottom()\n",
    "    # using this values we can create our bounding boxes\n",
    "    img = cv2.rectangle(img, (x1,y1),(x2,y2),(0,255,0),2)\n",
    "    # for creating landmarks for the face\n",
    "    landmarks = predictor(imgGray,face)\n",
    "    for n in range(68):\n",
    "        x = landmarks.part(n).x\n",
    "        y = landmarks.part(n).y\n",
    "        cv2.circle(img,(x,y),5,(50,50,255),cv2.FILLED)\n",
    "        cv2.putText(img,str(n),(x,y-10),cv2.FONT_HERSHEY_SIMPLEX,0.4,(0,0,255),1)\n",
    "        \n",
    "# to plot the output image        \n",
    "cv2.imshow(\"Output\",img)\n",
    "cv2.waitKey(0)\n"
   ]
  },
  {
   "cell_type": "code",
   "execution_count": null,
   "metadata": {},
   "outputs": [],
   "source": []
  }
 ],
 "metadata": {
  "kernelspec": {
   "display_name": "Python 3",
   "language": "python",
   "name": "python3"
  },
  "language_info": {
   "codemirror_mode": {
    "name": "ipython",
    "version": 3
   },
   "file_extension": ".py",
   "mimetype": "text/x-python",
   "name": "python",
   "nbconvert_exporter": "python",
   "pygments_lexer": "ipython3",
   "version": "3.8.5"
  }
 },
 "nbformat": 4,
 "nbformat_minor": 4
}
